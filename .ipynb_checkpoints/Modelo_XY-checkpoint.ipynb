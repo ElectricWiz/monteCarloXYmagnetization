{
 "cells": [
  {
   "cell_type": "code",
   "execution_count": 2,
   "id": "75f3cc88",
   "metadata": {},
   "outputs": [
    {
     "data": {
      "text/plain": [
       "6"
      ]
     },
     "execution_count": 2,
     "metadata": {},
     "output_type": "execute_result"
    }
   ],
   "source": [
    "3*2"
   ]
  },
  {
   "cell_type": "code",
   "execution_count": 3,
   "id": "c4e6672b",
   "metadata": {},
   "outputs": [
    {
     "data": {
      "text/plain": [
       "50"
      ]
     },
     "execution_count": 3,
     "metadata": {},
     "output_type": "execute_result"
    }
   ],
   "source": [
    "10*5"
   ]
  },
  {
   "cell_type": "code",
   "execution_count": 4,
   "id": "63a36bb9",
   "metadata": {},
   "outputs": [
    {
     "data": {
      "text/plain": [
       "initialState (generic function with 1 method)"
      ]
     },
     "execution_count": 4,
     "metadata": {},
     "output_type": "execute_result"
    }
   ],
   "source": [
    "function initialState(L)\n",
    "    return rand(Uniform(-1,1), L, L)\n",
    "end"
   ]
  },
  {
   "cell_type": "code",
   "execution_count": 5,
   "id": "a5baf0d0",
   "metadata": {},
   "outputs": [
    {
     "data": {
      "text/plain": [
       "randomSite (generic function with 1 method)"
      ]
     },
     "execution_count": 5,
     "metadata": {},
     "output_type": "execute_result"
    }
   ],
   "source": [
    "function randomSite(L)\n",
    "    return rand(1:L), rand(1:L)\n",
    "end"
   ]
  },
  {
   "cell_type": "code",
   "execution_count": 6,
   "id": "0818379c",
   "metadata": {},
   "outputs": [
    {
     "data": {
      "text/plain": [
       "stateChange (generic function with 1 method)"
      ]
     },
     "execution_count": 6,
     "metadata": {},
     "output_type": "execute_result"
    }
   ],
   "source": [
    "function stateChange(L, state)\n",
    "    stat1 = copy(state)\n",
    "    ala = randomSite(L)\n",
    "    \n",
    "    stat1[ala[1], ala[2]] *= -1\n",
    "    return stat1\n",
    "end"
   ]
  },
  {
   "cell_type": "code",
   "execution_count": 7,
   "id": "400faea7",
   "metadata": {},
   "outputs": [
    {
     "data": {
      "text/plain": [
       "neighbors (generic function with 1 method)"
      ]
     },
     "execution_count": 7,
     "metadata": {},
     "output_type": "execute_result"
    }
   ],
   "source": [
    "function neighbors(n, m, initialState)\n",
    "    A = []\n",
    "    L = size(initialState)[1]\n",
    "    \n",
    "    if n == 1 && m == 1\n",
    "        append!(A, [initialState[L, m], initialState[n, L], initialState[n + 1, m], initialState[n, m+1]])\n",
    "    elseif n == L && m == 1\n",
    "        append!(A, [initialState[1, m], initialState[n, L], initialState[n - 1, m], initialState[n, m+1]])\n",
    "    elseif n == 1 && m == L\n",
    "        append!(A, [initialState[L, m], initialState[n + 1, L], initialState[n, m - 1], initialState[n, 1]])\n",
    "    elseif n == L && m == L\n",
    "        append!(A, [initialState[1, m], initialState[n - 1, m], initialState[n, 1], initialState[n, m-1]])\n",
    "    elseif n == 1\n",
    "        append!(A, [initialState[L, m], initialState[n + 1, m], initialState[n, m-1], initialState[n, m+1]])\n",
    "    elseif n == L\n",
    "        append!(A, [initialState[1, m], initialState[n - 1, m], initialState[n, m-1], initialState[n, m+1]])\n",
    "    elseif m == 1\n",
    "        append!(A, [initialState[n+1, m], initialState[n - 1, m], initialState[n, L], initialState[n, m+1]])\n",
    "    elseif m == L\n",
    "        append!(A, [initialState[n+1, m], initialState[n - 1, m], initialState[n, 1], initialState[n, m-1]])\n",
    "    else\n",
    "        append!(A, [initialState[n-1, m], initialState[n+1, m], initialState[n, m-1], initialState[n, m+1]])\n",
    "    end\n",
    "    \n",
    "    return A\n",
    "end"
   ]
  },
  {
   "cell_type": "code",
   "execution_count": 8,
   "id": "c79b9c76",
   "metadata": {},
   "outputs": [
    {
     "data": {
      "text/plain": [
       "hamiltonian (generic function with 1 method)"
      ]
     },
     "execution_count": 8,
     "metadata": {},
     "output_type": "execute_result"
    }
   ],
   "source": [
    "function hamiltonian(state)\n",
    "    energia = 0\n",
    "    summ = 0\n",
    "    l = size(state)[1]\n",
    "    \n",
    "    for j in 1:l, k in 1:l\n",
    "        summ -= sum(state[j, k] * neighbors(j, k, state))\n",
    "    end\n",
    "    \n",
    "    summ -= 0.01*sum(state)*\n",
    "    \n",
    "    return summ\n",
    "end"
   ]
  },
  {
   "cell_type": "code",
   "execution_count": 9,
   "id": "9d5f2fbd",
   "metadata": {},
   "outputs": [
    {
     "data": {
      "text/plain": [
       "boltzProb (generic function with 1 method)"
      ]
     },
     "execution_count": 9,
     "metadata": {},
     "output_type": "execute_result"
    }
   ],
   "source": [
    "function boltzProb(initState, prblState, KT)\n",
    "    deltaE = hamiltonian(prblState) - hamiltonian(initState)\n",
    "    \n",
    "    if deltaE == 0 && KT == 0\n",
    "        return 0\n",
    "    else \n",
    "        return min(1, exp(-deltaE/KT))\n",
    "    end\n",
    "end"
   ]
  },
  {
   "cell_type": "code",
   "execution_count": 10,
   "id": "8130f43d",
   "metadata": {},
   "outputs": [
    {
     "data": {
      "text/plain": [
       "metropolisXY (generic function with 2 methods)"
      ]
     },
     "execution_count": 10,
     "metadata": {},
     "output_type": "execute_result"
    }
   ],
   "source": [
    "function metropolisXY(n, KT, L = 40)\n",
    "     state = initialState(L)\n",
    "     for k in 1:n\n",
    "        stChn = stateChange(L, state)\n",
    "        prob = boltzProb(state, stChn, KT)\n",
    "        r = rand(1)[1]\n",
    "\n",
    "        if r < prob\n",
    "            state = stChn\n",
    "        end\n",
    "\n",
    "    end\n",
    "    \n",
    "    return state\n",
    "end"
   ]
  },
  {
   "cell_type": "code",
   "execution_count": null,
   "id": "185d01bc",
   "metadata": {},
   "outputs": [],
   "source": []
  },
  {
   "cell_type": "markdown",
   "id": "23f77be2",
   "metadata": {},
   "source": [
    "[9] **Modelo XY**: El modelo XY es como el modelo de Ising, salvo que los espines pueden apuntar en cualquier dirección y no sólo en 2 direcciones. Por lo tanto, para calcular la energía del sistema se requiere calcular el producto punto (equivalentemente el ángulo) entre el campo magnético y el espín y también el ángulo entre dos espines vecinos. \n",
    "\n",
    "$$ H(\\sigma) = - \\sum_{i\\neq j} J_{ij}\\; \\vec{\\sigma}_i\\cdot\\vec{\\sigma}_j -\\sum_j \\mathbf{B}_j\\cdot \\vec{\\sigma}_j$$\n",
    "\n",
    "Considera que $J$ y $B$ son constantes.\n",
    "\n",
    "Este es uno de esos modelos que NO debería presentar una transición de fase en el sentido clásico según el teorema de Mermin-Wagner, pues es un sistema continuo (la posición es discreta, pero la orientación es continua). \n",
    "\n",
    "* Repite el primer inciso del problema anterior usando este modelo, pero esta vez para $k_B T = 0.1, 0.9$ y $2$. Con eso obtén el número de pasos de Monte-Carlo para que el sistema \"termalice\". \n",
    "\n",
    "* Mide $\\langle m \\rangle$ y $\\langle E \\rangle$ (usando el promedio de los último $10^3$ pasos en un solo sistema) y reduciendo la temperatura desde un estado completamente desordenado (comienza en $k_B T = 2$), para variaciones de $\\Delta k_B T = 0.01$ lentas (2 veces el número de pasos de Monte-Carlo que encontraste en el iniciso 1). ¿Si observas una transición de fase (o algo similar), a qué temperatura la observas (aproximadamente)? \n",
    "\n",
    "* Repite ahora el experimento con variaciones rápidas de la temeratura (1, 1/2, 1/3, 1/4 y 1/8 veces el número de pasos de Monte-Carlo que usaste en el inciso anterior). Haz una gráfica del sistema que obtienes en cada caso cuando llegas a temperatura 0. Para esto dibuja una red de $50\\times 50$ donde en cada nodo pongas una flechita que represente al espín (apuntando en la dirección que le corresponde). ¿Se ordenan siempre los espines en alguna dirección? \n",
    "\n",
    "Nota: Este es el segundo problema que trataron Kosterliz y Thoules, el primero fue el de discos duros, el segundo fue este. Por ambos se les dió el premio Nobel de Física en 2016. Además, en 2021 Parisi recibió el premio Nobel de Física por 2 razones, por estudiar sistemas complejos en general y por sus trabajos sobre vidrios de espín, que son las estructuras que deberían encontrar para enfriamientos rápidos en este modelo! "
   ]
  },
  {
   "cell_type": "code",
   "execution_count": 11,
   "id": "75c7fb31",
   "metadata": {},
   "outputs": [
    {
     "ename": "LoadError",
     "evalue": "UndefVarError: Uniform not defined",
     "output_type": "error",
     "traceback": [
      "UndefVarError: Uniform not defined",
      "",
      "Stacktrace:",
      " [1] initialState(L::Int64)",
      "   @ Main .\\In[4]:2",
      " [2] metropolisXY(n::Int64, KT::Float64, L::Int64) (repeats 2 times)",
      "   @ Main .\\In[10]:2",
      " [3] top-level scope",
      "   @ .\\In[11]:11"
     ]
    }
   ],
   "source": [
    "datos0_1m = []\n",
    "datos2_2m = []\n",
    "datos4m = []\n",
    "\n",
    "datos0_1H = []\n",
    "datos2_2H = []\n",
    "datos4H = []\n",
    "\n",
    "maxHamiltonian = hamiltonian(ones(40, 40))\n",
    "for k in 1:50:500\n",
    "    state0_1 = metropolisXY(100*k, 0.1)\n",
    "    state2_2 = metropolisXY(100*k, 2.2)\n",
    "    state4 = metropolisXY(100*k, 4)\n",
    "    \n",
    "    append!(datos0_1m, abs(sum(state0_1)))\n",
    "    append!(datos2_2m, abs(sum(state2_2)))\n",
    "    append!(datos4m, abs(sum(state4)))\n",
    "\n",
    "    append!(datos0_1H, hamiltonian(state0_1)/maxHamiltonian)\n",
    "    append!(datos2_2H, hamiltonian(state2_2)/maxHamiltonian)\n",
    "    append!(datos4H, hamiltonian(state4)/maxHamiltonian)\n",
    "end"
   ]
  },
  {
   "cell_type": "code",
   "execution_count": 12,
   "id": "b29d7dd4",
   "metadata": {},
   "outputs": [
    {
     "ename": "LoadError",
     "evalue": "UndefVarError: Uniform not defined",
     "output_type": "error",
     "traceback": [
      "UndefVarError: Uniform not defined",
      "",
      "Stacktrace:",
      " [1] initialState(L::Int64)",
      "   @ Main .\\In[4]:2",
      " [2] top-level scope",
      "   @ In[12]:1"
     ]
    }
   ],
   "source": [
    "initialState(5)"
   ]
  },
  {
   "cell_type": "code",
   "execution_count": null,
   "id": "7c7799a2",
   "metadata": {},
   "outputs": [],
   "source": []
  }
 ],
 "metadata": {
  "kernelspec": {
   "display_name": "Julia 1.8.5",
   "language": "julia",
   "name": "julia-1.8"
  },
  "language_info": {
   "file_extension": ".jl",
   "mimetype": "application/julia",
   "name": "julia",
   "version": "1.8.5"
  }
 },
 "nbformat": 4,
 "nbformat_minor": 5
}
