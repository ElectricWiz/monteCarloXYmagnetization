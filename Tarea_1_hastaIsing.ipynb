{
 "cells": [
  {
   "cell_type": "markdown",
   "id": "b8296667",
   "metadata": {},
   "source": [
    "# Tarea 1\n",
    "\n",
    "En esta tarea resolverán varios problemas relacionados con los algoritmos de Monte-Carlo. Por favor, tengan en cuenta que la tarea será bastante larga. Esta es sólo la primera parte de 3 partes. \n",
    "\n",
    "Parece que son \n",
    "\n",
    "\n",
    "## Integrales de Monte-Carlo\n",
    "\n",
    "Esta sección son problemas \"fáciles\", pero tardados. Tendrás que correr simulaciones por varios minutos. Como son problemas fáciles, valen entre los 5 problemas, 1 punto de la tarea. "
   ]
  },
  {
   "cell_type": "markdown",
   "id": "da9b8769",
   "metadata": {},
   "source": [
    "[1] Haz una función general del método de disparo de Monte-Carlo para integración. La función debe tener como argumentos la función de $n$ variables que se integrará; una región definida por $2n$ valores que corresponden a los valores iniciales y finales de cada lado de un prisma rectangular sobre el cual se integrará la función; el valor máximo y el mínimo de la función en la región de integración; y el número de tiros que se harán para estimar la integración. \n",
    "\n",
    "Prueba tu función con unas 3 o 4 integrales que puedas comprobar!"
   ]
  },
  {
   "cell_type": "code",
   "execution_count": 2,
   "id": "5ebce3af",
   "metadata": {},
   "outputs": [
    {
     "data": {
      "text/plain": [
       "montyPython (generic function with 2 methods)"
      ]
     },
     "execution_count": 2,
     "metadata": {},
     "output_type": "execute_result"
    }
   ],
   "source": [
    "function montyPython(f, nPrism, n=10000)\n",
    "    summ = 0\n",
    "    vol = 0\n",
    "    deltota = 0\n",
    "    inits = []\n",
    "    delta = 0\n",
    "    \n",
    "    for inter in nPrism\n",
    "        delta = inter[2] - inter[1]\n",
    "        append!(inits, inter[1])\n",
    "        \n",
    "        if vol == 0\n",
    "            vol = delta\n",
    "        else\n",
    "            vol *= delta\n",
    "        end\n",
    "        \n",
    "    end\n",
    "    \n",
    "    if deltota < delta\n",
    "        deltota = delta\n",
    "    end\n",
    "\n",
    "    for k in 1:n\n",
    "        summ += f([j*deltota for j in rand(length(nPrism))] + inits)\n",
    "    end\n",
    "    \n",
    "    return vol*(summ/n)\n",
    "end"
   ]
  },
  {
   "cell_type": "code",
   "execution_count": 3,
   "id": "79f1bf5e-7ff6-40cf-9087-f7b4c54d1c3a",
   "metadata": {},
   "outputs": [
    {
     "data": {
      "text/plain": [
       "f (generic function with 1 method)"
      ]
     },
     "execution_count": 3,
     "metadata": {},
     "output_type": "execute_result"
    }
   ],
   "source": [
    "f(A) = A[1] #función identidad"
   ]
  },
  {
   "cell_type": "code",
   "execution_count": 4,
   "id": "6f897b36",
   "metadata": {},
   "outputs": [
    {
     "data": {
      "text/plain": [
       "1.5026994754732192"
      ]
     },
     "execution_count": 4,
     "metadata": {},
     "output_type": "execute_result"
    }
   ],
   "source": [
    "montyPython(f, [(1, 2)])"
   ]
  },
  {
   "cell_type": "code",
   "execution_count": 5,
   "id": "511a8089-343f-4f0b-b909-ec876a2e5396",
   "metadata": {},
   "outputs": [
    {
     "data": {
      "text/plain": [
       "g (generic function with 1 method)"
      ]
     },
     "execution_count": 5,
     "metadata": {},
     "output_type": "execute_result"
    }
   ],
   "source": [
    "g(A) = sum(A.*A)"
   ]
  },
  {
   "cell_type": "code",
   "execution_count": 6,
   "id": "9acd4582",
   "metadata": {},
   "outputs": [
    {
     "data": {
      "text/plain": [
       "0.9964603345593174"
      ]
     },
     "execution_count": 6,
     "metadata": {},
     "output_type": "execute_result"
    }
   ],
   "source": [
    "montyPython(g, [[0, 1], [0, 1], [0, 1]])"
   ]
  },
  {
   "cell_type": "code",
   "execution_count": 7,
   "id": "e7f6f346-6814-42f1-a41b-c8e5f04f0bc8",
   "metadata": {},
   "outputs": [
    {
     "data": {
      "text/plain": [
       "h (generic function with 1 method)"
      ]
     },
     "execution_count": 7,
     "metadata": {},
     "output_type": "execute_result"
    }
   ],
   "source": [
    "h(A) = sum(sin.(A))"
   ]
  },
  {
   "cell_type": "code",
   "execution_count": 8,
   "id": "af22c2a4-8f73-4ddd-8196-515732c03611",
   "metadata": {},
   "outputs": [
    {
     "ename": "InterruptException",
     "evalue": "InterruptException:",
     "output_type": "error",
     "traceback": [
      "InterruptException:",
      "",
      "Stacktrace:",
      "  [1] try_yieldto(undo::typeof(Base.ensure_rescheduled))",
      "    @ Base .\\task.jl:871",
      "  [2] wait()",
      "    @ Base .\\task.jl:931",
      "  [3] yield()",
      "    @ Base .\\task.jl:815",
      "  [4] oslibuv_flush",
      "    @ C:\\Users\\bazanDavinci\\.julia\\packages\\IJulia\\6TIq1\\src\\stdio.jl:269 [inlined]",
      "  [5] flush(io::IJulia.IJuliaStdio{Base.PipeEndpoint})",
      "    @ IJulia C:\\Users\\bazanDavinci\\.julia\\packages\\IJulia\\6TIq1\\src\\stdio.jl:276",
      "  [6] flush_all()",
      "    @ IJulia C:\\Users\\bazanDavinci\\.julia\\packages\\IJulia\\6TIq1\\src\\stdio.jl:259",
      "  [7] execute_request(socket::ZMQ.Socket, msg::IJulia.Msg)",
      "    @ IJulia C:\\Users\\bazanDavinci\\.julia\\packages\\IJulia\\6TIq1\\src\\execute_request.jl:105",
      "  [8] #invokelatest#2",
      "    @ .\\essentials.jl:729 [inlined]",
      "  [9] invokelatest",
      "    @ .\\essentials.jl:726 [inlined]",
      " [10] eventloop(socket::ZMQ.Socket)",
      "    @ IJulia C:\\Users\\bazanDavinci\\.julia\\packages\\IJulia\\6TIq1\\src\\eventloop.jl:8",
      " [11] (::IJulia.var\"#15#18\")()",
      "    @ IJulia .\\task.jl:484"
     ]
    }
   ],
   "source": [
    "montyPython(h, [(-pi, pi), (-pi, pi)], 10000000)"
   ]
  },
  {
   "cell_type": "markdown",
   "id": "f2e5d61d",
   "metadata": {},
   "source": [
    "[2] En este ejercicio necesitarás usar la paquetería StatsBase y LsqFit. Revisa su documentación. Utiliza la función anterior para obtener un histograma (con al menos $10^4$ muestras) normalizado (para esto usa StatBase) y ajustale una gaussiana. Repite esto para diferentes números de tiros. Finalmente haz una gráfica de la desviación estandar de la gaussiana como función del número de tiros.  "
   ]
  },
  {
   "cell_type": "code",
   "execution_count": 9,
   "id": "1f7df023-5536-4d66-88d9-e3e621fa3f50",
   "metadata": {},
   "outputs": [],
   "source": [
    "using StatsBase"
   ]
  },
  {
   "cell_type": "code",
   "execution_count": null,
   "id": "b2263754-37a3-489e-b461-e11be8de216b",
   "metadata": {},
   "outputs": [],
   "source": [
    "obs = [montyPython(f, [[0, 1]], 5) for k in 1:10000]"
   ]
  },
  {
   "cell_type": "code",
   "execution_count": null,
   "id": "4c377247-64f2-44fe-995f-c788f02652d5",
   "metadata": {},
   "outputs": [],
   "source": [
    "fit(Histogram, obs)"
   ]
  },
  {
   "cell_type": "code",
   "execution_count": null,
   "id": "e02afeb3-e28d-44eb-ad8a-7de252897f48",
   "metadata": {},
   "outputs": [],
   "source": [
    "histogram(obs)"
   ]
  },
  {
   "cell_type": "code",
   "execution_count": null,
   "id": "0fa9c170-4d5f-404d-84c3-4f9bb0c14feb",
   "metadata": {},
   "outputs": [],
   "source": [
    "m(x, p) = 1/(p[1]*sqrt(2*pi)) * exp.(-.5 *((-p[2] .+ x) ./p[1]).^2 )\n",
    "p0 = [.4, 0.6]\n",
    "curve_fit(m, collect(0.0:0.1:1.0), [3, 77, 504, 1624, 2742, 2784, 1645, 544, 75, 2, 0], p0)"
   ]
  },
  {
   "cell_type": "markdown",
   "id": "d3735996-82fc-4979-969a-c27f84631061",
   "metadata": {},
   "source": [
    "$$\\mu = .5$$\n",
    "$$\\sigma = 0.025$$"
   ]
  },
  {
   "cell_type": "code",
   "execution_count": null,
   "id": "3bf53762-81b9-4c38-b02e-f9d54a791d33",
   "metadata": {},
   "outputs": [],
   "source": [
    "obs = [montyPython(f, [[0, 1]], 100) for k in 1:10000]"
   ]
  },
  {
   "cell_type": "code",
   "execution_count": null,
   "id": "bf993262-2ec9-4a02-90f7-dc6228bf8630",
   "metadata": {},
   "outputs": [],
   "source": [
    "fit(Histogram, obs)"
   ]
  },
  {
   "cell_type": "code",
   "execution_count": null,
   "id": "572fa28c-9af9-4388-a3c8-fe872cb8d6d1",
   "metadata": {},
   "outputs": [],
   "source": [
    "using Plots"
   ]
  },
  {
   "cell_type": "code",
   "execution_count": null,
   "id": "5ac123f5-0877-4ecc-83fa-bd4f2555c60d",
   "metadata": {},
   "outputs": [],
   "source": [
    "histogram(obs)"
   ]
  },
  {
   "cell_type": "code",
   "execution_count": null,
   "id": "9fc7ce8e-9e44-4222-9fb6-46ed659e637f",
   "metadata": {},
   "outputs": [],
   "source": [
    "m(x, p) = 1/(p[1]*sqrt(2*pi)) * exp.(-.5 *((-p[2] .+ x) ./p[1]).^2 )\n",
    "using LsqFit"
   ]
  },
  {
   "cell_type": "code",
   "execution_count": null,
   "id": "7895704a-b0b8-4b8b-8f42-daae85908129",
   "metadata": {},
   "outputs": [],
   "source": [
    "p0 = [.05, 0.55]\n",
    "curve_fit(m, collect(0.38:0.02:0.64),  [2, 39, 141, 612, 1646, 2590, 2495, 1689, 591, 168, 24, 2, 1, 0], p0)"
   ]
  },
  {
   "cell_type": "markdown",
   "id": "db51d63d-a32e-46e7-bbab-4445d01af7f9",
   "metadata": {},
   "source": [
    "$$\\mu = 0.478$$\n",
    "$$\\sigma = 0.0048$$"
   ]
  },
  {
   "cell_type": "code",
   "execution_count": null,
   "id": "149f5545-6034-4800-abb2-54a295ddbd62",
   "metadata": {},
   "outputs": [],
   "source": [
    "obs1 = [montyPython(f, [[0, 1]], 10000) for k in 1:10000]"
   ]
  },
  {
   "cell_type": "code",
   "execution_count": null,
   "id": "a87a83b6-9618-4377-bd36-d3ca64fd5101",
   "metadata": {},
   "outputs": [],
   "source": [
    "fit(Histogram, obs1)"
   ]
  },
  {
   "cell_type": "code",
   "execution_count": null,
   "id": "ed9d0062-74e1-4d13-aad5-c80560c3129d",
   "metadata": {},
   "outputs": [],
   "source": [
    "m(x, p) = 1/(p[1]*sqrt(2*pi)) * exp.(-.5 *((-p[2] .+ x) ./p[1]).^2 )\n",
    "p0 = [.01, 0.499]\n",
    "curve_fit(m, collect(0.488:0.002:0.512), [2, 33, 150, 647, 1554, 2530, 2587, 1627, 679, 164, 26, 1, 0], p0)"
   ]
  },
  {
   "cell_type": "markdown",
   "id": "a383d46d-9016-4cd5-8aa9-1fda0a6e6ce5",
   "metadata": {},
   "source": [
    "$$\\mu = 0.4991$$\n",
    "$$\\sigma = 0.00107$$"
   ]
  },
  {
   "cell_type": "code",
   "execution_count": null,
   "id": "844b3a8c",
   "metadata": {},
   "outputs": [],
   "source": [
    "histogram(obs1)"
   ]
  },
  {
   "cell_type": "code",
   "execution_count": null,
   "id": "cd8eafea-f911-42a8-bcad-9f7be6482824",
   "metadata": {},
   "outputs": [],
   "source": [
    "scatter([5,  100, 10000], [0.025, 0.0048, 0.00107])"
   ]
  },
  {
   "cell_type": "markdown",
   "id": "1b6f202f",
   "metadata": {},
   "source": [
    "[3] Repite el ejercicio anterior para funciones de dimensión $1$, $2$, $3$ y $4$. Con los resultados, mide (usando @elapse) el tiempo de cómputo que lleva producir una aproximación a una integral como función de la desviación estandar (que es el equivalente al error en el método de Monte-Carlo) para las funciones de $1$, $2$, $3$ y $4$ dimensiones. Compara con el tiempo que lleva hacer una suma de Riemman para los mismos casos, esta vez como función de la separación entre puntos de integración $\\Delta x$. ¿En qué dimensión se vuelve mejor el método de disparo?"
   ]
  },
  {
   "cell_type": "code",
   "execution_count": null,
   "id": "23598244-eeb8-4d78-b497-cc701446f08f",
   "metadata": {},
   "outputs": [],
   "source": [
    "g(A) = sum(A)"
   ]
  },
  {
   "cell_type": "code",
   "execution_count": null,
   "id": "acef18fd-5e2b-4191-aaca-95909084df4a",
   "metadata": {},
   "outputs": [],
   "source": [
    "obs = [montyPython(g, [[0, 1], [0, 1]], 5) for k in 1:10000]"
   ]
  },
  {
   "cell_type": "code",
   "execution_count": null,
   "id": "2089a1f2-b8cd-40c8-86a8-150fbe45c290",
   "metadata": {},
   "outputs": [],
   "source": [
    "fit(Histogram, obs)"
   ]
  },
  {
   "cell_type": "code",
   "execution_count": null,
   "id": "48224268-2091-44b2-b6d0-52ffda4677a5",
   "metadata": {},
   "outputs": [],
   "source": [
    "histogram(obs)"
   ]
  },
  {
   "cell_type": "code",
   "execution_count": null,
   "id": "5dd0a870-932c-47a0-9ee1-350e0955e881",
   "metadata": {},
   "outputs": [],
   "source": [
    "m(x, p) = 1/(p[1]*sqrt(2*pi)) * exp.(-.5 *((-p[2] .+ x) ./p[1]).^2 )\n",
    "p0 = [.2, 0.6]\n",
    "curve_fit(m, collect(0.3:0.1:1.5999999999999999), [3, 22, 98, 333, 922, 1563, 2083, 2031, 1568, 880, 365, 111, 21], p0)"
   ]
  },
  {
   "cell_type": "markdown",
   "id": "f8bde363-94cf-44e1-879a-ef3fc5858523",
   "metadata": {},
   "source": [
    "$$f:\\mathbb{R}^2 \\rightarrow \\mathbb{R}$$\n",
    "$$\\mu = .9999$$\n",
    "$$\\sigma = 0.025$$"
   ]
  },
  {
   "cell_type": "code",
   "execution_count": null,
   "id": "475b4101-1f32-4225-98e0-d9a715dc067a",
   "metadata": {},
   "outputs": [],
   "source": [
    "obs = [montyPython(g, [[0, 1], [0, 1]], 100) for k in 1:10000]\n",
    "fit(Histogram, obs)"
   ]
  },
  {
   "cell_type": "code",
   "execution_count": null,
   "id": "d8dca8e4-deb2-49a0-9f32-3ede7761f5f9",
   "metadata": {},
   "outputs": [],
   "source": [
    "histogram(obs)"
   ]
  },
  {
   "cell_type": "code",
   "execution_count": null,
   "id": "58f00db6-75dd-4805-8ecd-2921c6ed5d53",
   "metadata": {},
   "outputs": [],
   "source": [
    "m(x, p) = 1/(p[1]*sqrt(2*pi)) * exp.(-.5 *((-p[2] .+ x) ./p[1]).^2 )\n",
    "p0 = [.2, 0.6]\n",
    "curve_fit(m, collect(0.84:0.02:1.18), [1, 14, 61, 183, 469, 910, 1483, 1873, 1841, 1458, 990, 476, 179, 48, 10, 1, 3, 0], p0)"
   ]
  },
  {
   "cell_type": "markdown",
   "id": "1a46d0a8-84a4-4854-92c7-1bc49258613e",
   "metadata": {},
   "source": [
    "$$f:\\mathbb{R}^2 \\rightarrow \\mathbb{R}$$\n",
    "$$\\mu = .9799$$\n",
    "$$\\sigma = 0.00215$$"
   ]
  },
  {
   "cell_type": "code",
   "execution_count": null,
   "id": "c9ede365-8da6-4eb5-9f21-f53967e96e8e",
   "metadata": {},
   "outputs": [],
   "source": [
    "obs = [montyPython(g, [[0, 1], [0, 1]], 10000) for k in 1:10000]\n",
    "fit(Histogram, obs)"
   ]
  },
  {
   "cell_type": "code",
   "execution_count": null,
   "id": "7eb2eb70-d353-480a-bb93-f4a3b18a526a",
   "metadata": {},
   "outputs": [],
   "source": [
    "p0 = [.2, 0.6]\n",
    "curve_fit(m, collect(0.984:0.002:1.016), [2, 18, 70, 175, 432, 871, 1485, 1874, 1867, 1505, 968, 471, 191, 51, 18, 2, 0], p0)"
   ]
  },
  {
   "cell_type": "markdown",
   "id": "3e336f0d-e657-4d7c-b238-73217123fafa",
   "metadata": {},
   "source": [
    "$$f:\\mathbb{R}^2 \\rightarrow \\mathbb{R}$$\n",
    "$$\\mu = .9989$$\n",
    "$$\\sigma = 0.0011$$"
   ]
  },
  {
   "cell_type": "code",
   "execution_count": null,
   "id": "3ad5c284-74b9-477e-905f-0d00ccedb8a1",
   "metadata": {},
   "outputs": [],
   "source": [
    "scatter([5 100 10000], [0.025 0.00215 0.0011])"
   ]
  },
  {
   "cell_type": "code",
   "execution_count": null,
   "id": "1a7f4771-9dd9-45ee-9b2c-a1288d7ce328",
   "metadata": {},
   "outputs": [],
   "source": [
    "obs = [montyPython(g, [[0, 1], [0, 1], [0, 1]], 5) for k in 1:10000]\n",
    "fit(Histogram, obs)"
   ]
  },
  {
   "cell_type": "code",
   "execution_count": null,
   "id": "5dd10b19-db16-4c8d-b444-a0208fb47557",
   "metadata": {},
   "outputs": [],
   "source": [
    "histogram(obs)"
   ]
  },
  {
   "cell_type": "code",
   "execution_count": null,
   "id": "3b8e7809-c4be-411b-85f9-4da674191951",
   "metadata": {},
   "outputs": [],
   "source": [
    "p0 = [.2, 0.6]\n",
    "curve_fit(m, collect(0.6:0.2:2.4), [7, 107, 792, 2388, 3409, 2402, 768, 119, 8, 0], p0)"
   ]
  },
  {
   "cell_type": "markdown",
   "id": "2b2df0ba-44ba-408b-951f-87eac3effc8f",
   "metadata": {},
   "source": [
    "$$f:\\mathbb{R}^3 \\rightarrow \\mathbb{R}$$\n",
    "$$\\mu = 1.4$$\n",
    "$$\\sigma = 0.0261$$"
   ]
  },
  {
   "cell_type": "code",
   "execution_count": null,
   "id": "8f5ead39-9408-4b0e-bc28-7af56bf2d635",
   "metadata": {},
   "outputs": [],
   "source": [
    "obs = [montyPython(g, [[0, 1], [0, 1], [0, 1]], 100) for k in 1:10000]\n",
    "fit(Histogram, obs)"
   ]
  },
  {
   "cell_type": "code",
   "execution_count": null,
   "id": "c2e087cd-16dc-4222-b17a-c2c62a8da9b4",
   "metadata": {},
   "outputs": [],
   "source": [
    "histogram(obs)"
   ]
  },
  {
   "cell_type": "code",
   "execution_count": null,
   "id": "f9e5201a-19c4-4faf-b498-dcbe43c7b918",
   "metadata": {},
   "outputs": [],
   "source": [
    "p0 = [.2, 0.6]\n",
    "curve_fit(m, collect(1.3:0.05:1.7), [10, 197, 1357, 3409, 3442, 1357, 216, 12, 0], p0)"
   ]
  },
  {
   "cell_type": "markdown",
   "id": "060a9961-ffaa-43cc-b4f9-ca1a6502406c",
   "metadata": {},
   "source": [
    "$$f:\\mathbb{R}^3 \\rightarrow \\mathbb{R}$$\n",
    "$$\\mu = 1.4999$$\n",
    "$$\\sigma = 0.00420$$"
   ]
  },
  {
   "cell_type": "code",
   "execution_count": null,
   "id": "4350f3f2-8627-404b-96e4-d9d4059129b5",
   "metadata": {},
   "outputs": [],
   "source": [
    "obs = [montyPython(g, [[0, 1], [0, 1], [0, 1]], 10000) for k in 1:10000]\n",
    "fit(Histogram, obs)"
   ]
  },
  {
   "cell_type": "code",
   "execution_count": null,
   "id": "1934c20b-13b8-43e7-b6ae-b743b39b9a1e",
   "metadata": {},
   "outputs": [],
   "source": [
    "histogram(obs)"
   ]
  },
  {
   "cell_type": "code",
   "execution_count": null,
   "id": "f45258ea-3147-49ae-bcc2-bea14c4736e6",
   "metadata": {},
   "outputs": [],
   "source": [
    "p0 = [.15, 1.7]\n",
    "curve_fit(m, collect(1.48:0.005:1.52), [14, 192, 1334, 3452, 3407, 1361, 225, 15, 0], p0)"
   ]
  },
  {
   "cell_type": "markdown",
   "id": "4613bd41-2c2b-453b-9926-f5913e00d60e",
   "metadata": {},
   "source": [
    "$$f:\\mathbb{R}^3 \\rightarrow \\mathbb{R}$$\n",
    "$$\\mu = 1.500000007$$\n",
    "$$\\sigma = 0.00106$$"
   ]
  },
  {
   "cell_type": "code",
   "execution_count": null,
   "id": "3654d7a1-e33c-4c5e-ac7e-cdf0f2ad7cc6",
   "metadata": {},
   "outputs": [],
   "source": [
    "scatter([5 100 10000], [0.0261 0.0042 0.00106])"
   ]
  },
  {
   "cell_type": "code",
   "execution_count": null,
   "id": "775e9316-83f0-4e6c-b234-32425df76cb0",
   "metadata": {},
   "outputs": [],
   "source": [
    "obs = [montyPython(g, [[0, 1], [0, 1], [0, 1], [0, 1]], 5) for k in 1:10000]\n",
    "fit(Histogram, obs)"
   ]
  },
  {
   "cell_type": "code",
   "execution_count": null,
   "id": "f1181b03-460a-4f80-b3c7-bca16f084be9",
   "metadata": {},
   "outputs": [],
   "source": [
    "histogram(obs)"
   ]
  },
  {
   "cell_type": "code",
   "execution_count": null,
   "id": "44647c97-ed82-4fa2-96e6-b0681cc99cf1",
   "metadata": {},
   "outputs": [],
   "source": [
    "p0 = [.3, 2.05]\n",
    "curve_fit(m, collect(1.0:0.2:3.2), [5, 81, 512, 1587, 2826, 2813, 1595, 489, 82, 8, 2, 0], p0)"
   ]
  },
  {
   "cell_type": "markdown",
   "id": "4c1f433a-528c-4107-8746-35228240fb8e",
   "metadata": {},
   "source": [
    "$$f:\\mathbb{R}^4 \\rightarrow \\mathbb{R}$$\n",
    "$$\\mu = 1.898$$\n",
    "$$\\sigma = 0.106$$"
   ]
  },
  {
   "cell_type": "code",
   "execution_count": null,
   "id": "3c05e7ef-2e0a-4683-8669-4d3fd72c20bb",
   "metadata": {},
   "outputs": [],
   "source": [
    "obs = [montyPython(g, [[0, 1], [0, 1], [0, 1], [0, 1]], 100) for k in 1:10000]\n",
    "fit(Histogram, obs)"
   ]
  },
  {
   "cell_type": "code",
   "execution_count": null,
   "id": "3ffbc2e2-89e3-4d94-afa1-3ad66ade6923",
   "metadata": {},
   "outputs": [],
   "source": [
    "histogram(obs)"
   ]
  },
  {
   "cell_type": "code",
   "execution_count": null,
   "id": "3465f6e2-806e-49b9-b6d6-1e9f3fa0635d",
   "metadata": {},
   "outputs": [],
   "source": [
    "p0 = [.1, 2.05]\n",
    "curve_fit(m, collect(1.8:0.05:2.25), [49, 364, 1502, 3094, 3074, 1498, 358, 59, 2, 0], p0)"
   ]
  },
  {
   "cell_type": "markdown",
   "id": "da3e15a0-fa58-47d0-b948-3f55c5a062ca",
   "metadata": {},
   "source": [
    "$$f:\\mathbb{R}^4 \\rightarrow \\mathbb{R}$$\n",
    "$$\\mu = 1.9709$$\n",
    "$$\\sigma = 0.0258$$"
   ]
  },
  {
   "cell_type": "code",
   "execution_count": null,
   "id": "4eeb6658-b075-4b2f-8cac-208b4c2c94d8",
   "metadata": {},
   "outputs": [],
   "source": [
    "obs = [montyPython(g, [[0, 1], [0, 1], [0, 1], [0, 1]], 10000) for k in 1:10000]\n",
    "fit(Histogram, obs)"
   ]
  },
  {
   "cell_type": "code",
   "execution_count": null,
   "id": "b143293c-5208-4ea3-925f-f4660d818336",
   "metadata": {},
   "outputs": [],
   "source": [
    "histogram(obs)"
   ]
  },
  {
   "cell_type": "code",
   "execution_count": null,
   "id": "588b7b87-0b09-405a-a334-481272692385",
   "metadata": {},
   "outputs": [],
   "source": [
    "p0 = [.075, 2]\n",
    "curve_fit(m, collect(1.975:0.005:2.02), [1, 46, 369, 1531, 3004, 3123, 1509, 373, 44, 0], p0)"
   ]
  },
  {
   "cell_type": "markdown",
   "id": "602d0f1a-0250-4817-ae6b-84a1a7c8890a",
   "metadata": {},
   "source": [
    "$$f:\\mathbb{R}^4 \\rightarrow \\mathbb{R}$$\n",
    "$$\\mu = 1.999$$\n",
    "$$\\sigma = 0.001244$$"
   ]
  },
  {
   "cell_type": "code",
   "execution_count": null,
   "id": "c00c0a65-5737-4d59-8cfd-c1de5303982d",
   "metadata": {},
   "outputs": [],
   "source": [
    "scatter([5 100 10000], [0.106 0.0258 0.00124])"
   ]
  },
  {
   "cell_type": "code",
   "execution_count": null,
   "id": "54a1b8cc-a7d8-4078-8c90-709ad98e2589",
   "metadata": {},
   "outputs": [],
   "source": [
    "@elapsed montyPython(g, [[0, 1]], 5)"
   ]
  },
  {
   "cell_type": "code",
   "execution_count": null,
   "id": "97fd8892-607e-435b-a02f-436e6bff4cf1",
   "metadata": {},
   "outputs": [],
   "source": [
    "@elapsed montyPython(g, [[0, 1]], 100)"
   ]
  },
  {
   "cell_type": "code",
   "execution_count": null,
   "id": "07e580e2-652b-4b26-8960-0f756df7f9b6",
   "metadata": {},
   "outputs": [],
   "source": [
    "@elapsed montyPython(g, [[0, 1]], 10000)"
   ]
  },
  {
   "cell_type": "code",
   "execution_count": null,
   "id": "89e7e3b8-bb4e-4c54-a841-37370af457d3",
   "metadata": {},
   "outputs": [],
   "source": [
    "@elapsed montyPython(g, [[0, 1], [0, 1]], 5)"
   ]
  },
  {
   "cell_type": "code",
   "execution_count": null,
   "id": "0ab33569-6203-454d-bb35-e390fe7753ca",
   "metadata": {},
   "outputs": [],
   "source": [
    "@elapsed montyPython(g, [[0, 1], [0, 1]], 100)"
   ]
  },
  {
   "cell_type": "code",
   "execution_count": null,
   "id": "38e01806-4431-4f15-b83c-6f677bb4b718",
   "metadata": {},
   "outputs": [],
   "source": [
    "@elapsed montyPython(g, [[0, 1], [0, 1]], 10000)"
   ]
  },
  {
   "cell_type": "code",
   "execution_count": null,
   "id": "8a70b112-c54f-49b1-97ea-c46e68b7fa51",
   "metadata": {},
   "outputs": [],
   "source": [
    "@elapsed montyPython(g, [[0, 1], [0, 1], [0, 1]], 5)"
   ]
  },
  {
   "cell_type": "code",
   "execution_count": null,
   "id": "d74b909c-bfc3-4d11-bdd8-972de2b10337",
   "metadata": {},
   "outputs": [],
   "source": [
    "@elapsed montyPython(g, [[0, 1], [0, 1], [0, 1]], 100)"
   ]
  },
  {
   "cell_type": "code",
   "execution_count": null,
   "id": "581d38b9-0187-441e-afda-a8249d703fca",
   "metadata": {},
   "outputs": [],
   "source": [
    "@elapsed montyPython(g, [[0, 1], [0, 1], [0, 1]], 10000)"
   ]
  },
  {
   "cell_type": "code",
   "execution_count": null,
   "id": "57c08ae9-2a00-4aec-836b-4f8570b2af34",
   "metadata": {},
   "outputs": [],
   "source": [
    "@elapsed montyPython(g, [[0, 1], [0, 1], [0, 1], [0, 1]], 5)"
   ]
  },
  {
   "cell_type": "code",
   "execution_count": null,
   "id": "8eee7681-63e1-4312-955d-4549ad1ec92e",
   "metadata": {},
   "outputs": [],
   "source": [
    "@elapsed montyPython(g, [[0, 1], [0, 1], [0, 1], [0, 1]], 100)"
   ]
  },
  {
   "cell_type": "code",
   "execution_count": null,
   "id": "304d1712-4bf9-4c95-b91f-45858c1501a8",
   "metadata": {},
   "outputs": [],
   "source": [
    "@elapsed montyPython(g, [[0, 1], [0, 1], [0, 1], [0, 1]], 10000)"
   ]
  },
  {
   "cell_type": "markdown",
   "id": "aae30515",
   "metadata": {},
   "source": [
    "$$f: \\mathbb{R}^2 \\rightarrow \\mathbb{R}$$"
   ]
  },
  {
   "cell_type": "code",
   "execution_count": 8,
   "id": "d2203b38-55ec-4098-a720-5271ba0990f3",
   "metadata": {},
   "outputs": [
    {
     "data": {
      "image/png": "[encoded data removed]",
      "text/plain": [
       "Figure(PyObject <Figure size 640x480 with 1 Axes>)"
      ]
     },
     "metadata": {},
     "output_type": "display_data"
    },
    {
     "data": {
      "text/plain": [
       "PyObject <matplotlib.collections.PathCollection object at 0x000001B9F0FF5990>"
      ]
     },
     "execution_count": 8,
     "metadata": {},
     "output_type": "execute_result"
    }
   ],
   "source": [
    "using PyPlot\n",
    "using Seaborn\n",
    "\n",
    "Seaborn.set_theme()\n",
    "Seaborn.set_palette(\"rocket\")\n",
    "\n",
    "PyPlot.scatter([0.025 0.0215 0.0011], [2.83e-5 0.0001363 0.096249]) "
   ]
  },
  {
   "cell_type": "markdown",
   "id": "59971e9c",
   "metadata": {},
   "source": [
    "$$f: \\mathbb{R}^3 \\rightarrow \\mathbb{R}$$"
   ]
  },
  {
   "cell_type": "code",
   "execution_count": 9,
   "id": "952f61c8-ca05-4980-a475-68d83b25a37c",
   "metadata": {},
   "outputs": [
    {
     "data": {
      "image/png": "[encoded data removed]",
      "text/plain": [
       "Figure(PyObject <Figure size 640x480 with 1 Axes>)"
      ]
     },
     "metadata": {},
     "output_type": "display_data"
    },
    {
     "data": {
      "text/plain": [
       "PyObject <matplotlib.collections.PathCollection object at 0x000001B9F1057760>"
      ]
     },
     "execution_count": 9,
     "metadata": {},
     "output_type": "execute_result"
    }
   ],
   "source": [
    "PyPlot.scatter([0.025 0.0215 0.0011], [2.81e-5 0.0001229 0.0101357])"
   ]
  },
  {
   "cell_type": "markdown",
   "id": "2327b6bb",
   "metadata": {},
   "source": [
    "$$f: \\mathbb{R}^4 \\rightarrow \\mathbb{R}$$"
   ]
  },
  {
   "cell_type": "code",
   "execution_count": 10,
   "id": "6d9772dd",
   "metadata": {},
   "outputs": [
    {
     "data": {
      "image/png": "[encoded data removed]",
      "text/plain": [
       "Figure(PyObject <Figure size 640x480 with 1 Axes>)"
      ]
     },
     "metadata": {},
     "output_type": "display_data"
    },
    {
     "data": {
      "text/plain": [
       "PyObject <matplotlib.collections.PathCollection object at 0x000001B9F101C130>"
      ]
     },
     "execution_count": 10,
     "metadata": {},
     "output_type": "execute_result"
    }
   ],
   "source": [
    "PyPlot.scatter([0.025 0.00215 0.0011], [2.97e-5 0.0001288 0.0109323])"
   ]
  },
  {
   "cell_type": "markdown",
   "id": "f2de81b6-77ca-48e3-b6cd-df42cebed04d",
   "metadata": {},
   "source": [
    "Nótese que para 4 dimensiones, es increiblemente más rapido calcular para una desviación estandar bastante aceptable"
   ]
  },
  {
   "cell_type": "code",
   "execution_count": null,
   "id": "01f03c3e-e04f-4ea2-a94f-08603f249d8e",
   "metadata": {},
   "outputs": [],
   "source": [
    "function riemann(f, nPrism, deltaX)    "
   ]
  },
  {
   "cell_type": "markdown",
   "id": "cab1249e",
   "metadata": {},
   "source": [
    "[4] Utilizando la definición de valor esperado de una variable aleatoria, muestra (matemáticamente) cómo se puede calcular la integral $$\\int_{a}^b f(x) dx$$ (en clase lo hicimos para $a = 0$ y $b = 1$, generaliza eso para cualquier $a$ y $b$).  Finalmente implementa una función que calcule la integral de otra entre 2 valores usando esta idea. "
   ]
  },
  {
   "cell_type": "code",
   "execution_count": null,
   "id": "b2777251-09c8-43fd-b786-4824e952028f",
   "metadata": {},
   "outputs": [],
   "source": []
  },
  {
   "cell_type": "markdown",
   "id": "04acc689-91cf-4e94-90c4-0547a4264f8c",
   "metadata": {},
   "source": [
    "El valor esperado de una variable aleatoria es\n",
    "$$<X> = \\int_{-\\infty}^{\\infty} \\rho_X (x) dx$$\n",
    "y si aplicamos una función g a esta variable se obtiene que su valor esperado es\n",
    "$$<g(X) = Y> = \\int_{-\\infty}^{\\infty} g(x)\\rho_X (x) dx$$\n",
    "Para una variable aleatoria uniforme definida en el intervalo $[a, b]$ esto es igual a\n",
    "$$=\\frac{1}{b - a} \\int_{a}^{b} g(x) dx$$\n",
    "por lo tanto la integral puede verse cómo el promedio multiplicado por la medida del dominio de la función\n",
    "$$<g(x)>(b - a) = \\int_{a}^{b} g(x) dx$$"
   ]
  },
  {
   "cell_type": "code",
   "execution_count": null,
   "id": "55948141-9a69-4874-aec6-6138f2802b91",
   "metadata": {},
   "outputs": [],
   "source": [
    "inti(f, a, b, n) = sum(f.(rand(n)*(b - a) .+ a))/n"
   ]
  },
  {
   "cell_type": "code",
   "execution_count": null,
   "id": "079d392f-fb56-497e-8906-903de14753be",
   "metadata": {},
   "outputs": [],
   "source": [
    "f(x) = x"
   ]
  },
  {
   "cell_type": "code",
   "execution_count": null,
   "id": "3fecf010-144f-49f6-a985-a7d64184a6c6",
   "metadata": {},
   "outputs": [],
   "source": [
    "inti(f, 1, 2, 10000000)"
   ]
  },
  {
   "cell_type": "markdown",
   "id": "78b7c153",
   "metadata": {},
   "source": [
    "[5] Generaliza la función anterior para aplicarlo a integrales múltiples. Prueba con las mismas funciones que usaste en el ejercicio 3. Luego mide el tiempo de cómputo como función de la desviación estándar al menos para dimensión 1 y 4. ¿Qué método es mejor, el de disparo o este? "
   ]
  },
  {
   "cell_type": "code",
   "execution_count": null,
   "id": "ff32e495-d35b-4004-af09-38a6159470f4",
   "metadata": {},
   "outputs": [],
   "source": [
    "function intt(f, nPrism, n=100000)\n",
    "    init = []\n",
    "    vols = []\n",
    "    summ = 0\n",
    "    \n",
    "    for inter in nPrism\n",
    "        append!(init, inter[1])\n",
    "        append!(vols, inter[2] - inter[1])\n",
    "    end    \n",
    "    \n",
    "    for k in 1:n\n",
    "       summ += f(rand(length(nPrism)) .* vols + init)\n",
    "    end\n",
    "    \n",
    "    return summ/n\n",
    "end"
   ]
  },
  {
   "cell_type": "code",
   "execution_count": null,
   "id": "179fbcca-6015-436b-bb5c-de95a6673c91",
   "metadata": {},
   "outputs": [],
   "source": [
    "f(A) = sum(sin.(A))"
   ]
  },
  {
   "cell_type": "code",
   "execution_count": null,
   "id": "38d2ea1c-9436-40db-a863-6c403813d959",
   "metadata": {},
   "outputs": [],
   "source": [
    "f(rand(3))"
   ]
  },
  {
   "cell_type": "code",
   "execution_count": null,
   "id": "ff4fc088-9f24-40bd-97d5-b680f1906331",
   "metadata": {},
   "outputs": [],
   "source": [
    "intt(f, [(-pi,pi), (-pi,pi), (-pi,pi)])"
   ]
  },
  {
   "cell_type": "markdown",
   "id": "3f1bc836",
   "metadata": {},
   "source": [
    "## Ecuaciones diferenciales parciales\n",
    "\n",
    "Esta sección es difícil. Hacer los programas te llevará tiempo y correrlos también. Aunque son menos problemas, te llevará probablemente más que el doble de tiempo hacerlos que el resto. Como estos son problemas más difíciles, cada uno vale 1 punto. "
   ]
  },
  {
   "cell_type": "markdown",
   "id": "101f8739",
   "metadata": {},
   "source": [
    "[6] ¿Qué tienes que modificar al caminante aleatorio para resolver la ecuación $\\nabla u = c$ donde $c$ es una constante? Haz el código que resuelva este caso. "
   ]
  },
  {
   "cell_type": "markdown",
   "id": "13ed3381-1c79-4d6e-a872-5e39a7cee86e",
   "metadata": {},
   "source": [
    "R. C. Sadiku, M. N. O., & Garcia, R. C. (n.d.). Monte Carlo floating random walk solution of Poisson’s equation. Proceedings of Southeastcon  ’93. doi:10.1109/secon.1993.465708 \n",
    "\n",
    "Tomando la notación del artículo aquí $g(x, y) = cte$, además junto con la conmutatividad de las sumas finitas se púede llegar a la siguiente expresión\n",
    "\n",
    "$$V(x_o, y_o) = \\frac{1}{N}\\sum^N_i f_b(i) + \\frac{c\\Delta^2}{4}\\sum_{puntosCaminante}$$\n",
    "si definimos $\\Delta = 1$\n",
    "$$V(x_o, y_o) = \\frac{1}{N}\\sum^N_i f_b(i) + \\frac{c}{4}\\sum_{puntosCaminante}$$"
   ]
  },
  {
   "cell_type": "code",
   "execution_count": null,
   "id": "969cc352-da7f-48e9-8c1a-95a0d1eea4a0",
   "metadata": {},
   "outputs": [],
   "source": [
    "function esValida(i, j, retic)\n",
    "    retic[i, j] == -1 ? false : true\n",
    "end\n",
    "\n",
    "function caminarAlCaminante(i, j)\n",
    "    n = rand(-1:1, 1)\n",
    "    m = rand(-1:1, 1)\n",
    "    \n",
    "    i += n[1]\n",
    "    j += m[1]\n",
    "    \n",
    "    return i, j\n",
    "end\n",
    "\n",
    "function trayectoria(i, j, retic)\n",
    "    ansatz = true\n",
    "    I, J = [i], [j]\n",
    "    \n",
    "    while ansatz\n",
    "        i, j = caminarAlCaminante(i, j)\n",
    "        push!(I, i), push!(J, j)\n",
    "        ansatz = esValida(i, j, retic)\n",
    "    end\n",
    "    \n",
    "    return I, J\n",
    "end\n",
    "\n",
    "function minimo_o_inf(matriz)\n",
    "    n,m = size(matriz)\n",
    "    x = Inf\n",
    "    \n",
    "    for i in 1:n, j in 1:m  #busca el mínimo mayor o igual a 0. Si todos son negativos, regresa Inf\n",
    "        if matriz[i,j]<x && matriz[i,j] >= 0 \n",
    "            x = matriz[i,j]\n",
    "        end\n",
    "    end\n",
    "    \n",
    "    return x\n",
    "end\n",
    "\n",
    "function infimo_o0(matriz) # revisa, entre los valores de la retícula que son mayores o iguales a 0, cual es el menor valor\n",
    "    x = minimo_o_inf(matriz)\n",
    "    \n",
    "    if x ≠ Inf \n",
    "        return x \n",
    "    else\n",
    "        return \n",
    "        0 # si todos los valores en la matriz son negativos, regresa 0. \n",
    "    end\n",
    "end\n",
    "\n",
    "function imprimeValores(i,j,numero_de_caminantes, contador, pasos)\n",
    "    if mod(contador, pasos) == 0\n",
    "        println(\"revisando vertice ($i ,$j)\")\n",
    "        println(\"Caminantes máximos = $(maximum(numero_de_caminantes))\")\n",
    "        println(\"Caminantes mínimos = $(infimo_o0(numero_de_caminantes))\")\n",
    "        println(\" \")\n",
    "        flush(stdout)\n",
    "    end\n",
    "    \n",
    "end\n",
    "\n",
    "function lilWalker(i, j, retic, f, solucion, numeroCaminantes)\n",
    "    ansatz = esValida(i, j, retic)\n",
    "    z = []\n",
    "    \n",
    "    if ansatz\n",
    "        a, b = trayectoria(i, j, retic)\n",
    "        z = copy(a)\n",
    "        s = f(a[end], b[end])\n",
    "        \n",
    "        for l in 1:length(a) - 1\n",
    "            solucion[a[l], b[l]] += s\n",
    "            numeroCaminantes[a[l], b[l]] += 1\n",
    "        end\n",
    "    end\n",
    "    \n",
    "    return solucion, numeroCaminantes, length(z)\n",
    "end\n",
    "\n",
    "function poissonSolver(retic, f, c, n) #c es la constante de la ecuación de Poisson    \n",
    "    contador = 0\n",
    "    n1, n2 = size(retic)\n",
    "    solucion = zeros(n1,n2)\n",
    "    numeroCaminantes = [retic[i,j]<0 ? -1 : 0 for i in 1:n1, j in 1:n2] # asegura que la retícula sean sólo 0's y 1's\n",
    "    puntos = 0\n",
    "    \n",
    "    while infimo_o0(numeroCaminantes)<n\n",
    "        for i in 1:n1, j in 1:n2\n",
    "            contador += 1\n",
    "            imprimeValores(i, j, numeroCaminantes, contador, 5000) #imprime los valores cada 5000 pasos para saber qué tan avanzado va el cálculo\n",
    "            solucion, numeroCaminantes, puntos = lilWalker(i, j, retic, f, solucion, numeroCaminantes)\n",
    "            if infimo_o0(numeroCaminantes)>n\n",
    "                break\n",
    "            end\n",
    "        end\n",
    "    end\n",
    "    \n",
    "    return solucion .+ puntos*(c/4), numeroCaminantes\n",
    "end"
   ]
  },
  {
   "cell_type": "code",
   "execution_count": null,
   "id": "d22da114-9f9e-4ca4-9d59-c4d2a6b87dde",
   "metadata": {},
   "outputs": [],
   "source": [
    "using Images\n",
    "placa = load(\"trian.png\")"
   ]
  },
  {
   "cell_type": "code",
   "execution_count": null,
   "id": "4892f677-9b31-4887-aeb6-ac7521fa233b",
   "metadata": {},
   "outputs": [],
   "source": [
    "using Plots"
   ]
  },
  {
   "cell_type": "code",
   "execution_count": null,
   "id": "19ceb4ae-50a6-43df-b66c-4fdd9df451a2",
   "metadata": {},
   "outputs": [],
   "source": [
    "a, b = size(placa)\n",
    "retic = [placa[a+1-i,j] == placa[1,1] ? -1 : 0 for i in 1:a, j in 1:b]; \n",
    "heatmap(retic)"
   ]
  },
  {
   "cell_type": "code",
   "execution_count": null,
   "id": "8100728b-42cd-492b-8376-3d45d292a2f3",
   "metadata": {},
   "outputs": [],
   "source": [
    "f(x, y) = 1/(x^2 + y^2 + 1)\n",
    "poissonSolver(retic, f, 3000, 10)  "
   ]
  },
  {
   "cell_type": "markdown",
   "id": "10d38466",
   "metadata": {},
   "source": [
    "[7] ¿Qué modelo de caminante aleatorio se puede usar para resolver la ecuación de onda? Una vez que hayas encontrado el modelo de caminante aleatorio adecuado, resuelve la ecuación de onda en una placa cuadrada donde los bordes están fijos (el centro es el que tiene la perturvación). Con eso obtendrás las figuras de Chlandi (es decir, la onda estacionaria). Prueba el dejar un punto fijo dentro de la ¿se forma alguna figura? ¿Se puede fijar un punto en cualquier lugar de la placa y aún obtener las figuras de Chlandi? \n",
    "\n",
    "También resuélvelo para alguna otra placa que quieras ¿Para cualquier forma de placa se obtiene un estado estacionario? \n",
    "\n",
    "Nota: Recuerda que para resolver este caso, debes tener las condiciones iniciales (todos los valores de la placa al tiempo 0 y todas las velocidades (o valores de la placa al tiempo 1) iniciales), además de las condiciones a la frontera (cuánto vale $u$ en la frontera en todo momento). Además, como estamos interesados en una oscilación constante, se debe tener una función del valor de $u$ en un punto que sea del tipo $A cos(\\omega t)$.   "
   ]
  },
  {
   "cell_type": "code",
   "execution_count": null,
   "id": "4282420d",
   "metadata": {},
   "outputs": [],
   "source": [
    "A = [3,3,3]"
   ]
  },
  {
   "cell_type": "code",
   "execution_count": null,
   "id": "9adec9f2-708f-4c54-b392-abdec885e503",
   "metadata": {},
   "outputs": [],
   "source": []
  },
  {
   "cell_type": "code",
   "execution_count": null,
   "id": "45520429-53a5-4f19-a0fd-aaadf2b5671f",
   "metadata": {},
   "outputs": [],
   "source": [
    "E = copy(A)"
   ]
  },
  {
   "cell_type": "markdown",
   "id": "05d69d9b",
   "metadata": {},
   "source": [
    "**Nota**: En total esta primera parte vale 3 puntos. Las siguientes 2 partes valdrán 4 y 4 puntos porque serán un poquito más difíciles que esta. Tendrán poco más de un mes para hacer toda la tarea. El martes de la próxima semana subo la siguiente parte y doy la clase sobre el algoritmo de Metropolis y algunas variaciones de este. "
   ]
  },
  {
   "cell_type": "code",
   "execution_count": null,
   "id": "e2c88fd6",
   "metadata": {},
   "outputs": [],
   "source": []
  },
  {
   "cell_type": "markdown",
   "id": "fae06b43",
   "metadata": {},
   "source": [
    "[8] **Capacidad calorífica, suceptibilidad magnética e histéresis en el modelo de Ising:** Haremos este problema en varios pasos. \n",
    "\n",
    "* Obtén el número de pasos de Monte-Carlo para alcanzar el equilibrio. Para esto grafica para 3 valores de la temperatura $k_B T = 0.1, 2.2$ y $4$ la energía $H$ y la magnetización $m$ contra el tiempo (número de pasos) en el modelo de Ising para $J = 1$, $B = 0.01$ y $L = 50$. Asegúrate de normalizar la energía, dividiéndola entre la máxima energía posible del sistema, de forma que puedas graficar $H$ y $m$ en una misma gráfica y que más o menos estén en la misma escala (entre 0 y 1). No olvides ponerle el valor absoluto a $m$. Para elegir la cantidad de pasos adecuada que debe tener tu sistema, asegúrate que en los 3 casos, la $H$ y $m$ lleguen a valores similares y más o menos estables (salvo fluctuaciones). El número de pasos donde eso suceda + 10\\% será el número de pasos adecuado. **Nota: para graficar tendrás muchísimos datos, grafica sólo 1 de cada mil, sino Plots no podrá con la gráfica y trabarás tu computadora.** \n",
    "\n",
    "* Con ese número de pasos haz 100 simulaciones donde guardes 100 de los últimos $10^4$ datos (o sea 1 de cada 100 pasos de Monte-Carlo) para 100 valores de la temperatura (con $k_B T$ entre 0 y 4) comenzando siempre desde un arreglo aleatorio, de forma que tengas para cada valor de la temperatura $10^4$ datos de la energía y de la magnetización. Con esos datos obtén $\\langle m \\rangle$, $\\langle E \\rangle$, $\\langle m^2 \\rangle$, $\\langle E^2 \\rangle$ y con ello obtén $C_B$ y $\\chi_B$. Guarda tus datos para hacer las gráficas de $\\langle m \\rangle$ y $\\langle E \\rangle$. \n",
    "\n",
    "* Repite el inciso anterior, esta vez sólo haciendo un promedio de los últimos $10^3$ pasos (sin hacer ya 100 simulaciones) y compara lo obtenido para $\\langle m \\rangle$ y $\\langle E \\rangle$ usando lo del ejercicio anterior. Notarás que se obtiene casi lo mismo (no en cambio con $C_B$ y $\\chi_B$. \n",
    "\n",
    "* Repite el inciso anterior (sólo midiendo $\\langle m \\rangle$ y $\\langle E \\rangle$) pero esta vez el estado inicial en cada temperatura será el estado final de la temperatura anterior, comenzando por un sistema completamente ordenado para $k_B T = 0$. Después haz la gráfica en sentido contrario, es decir, comenzando con un sistema completamente desordenado a $k_B T = 4$ y reduciendo de $0.04$ en $0.04$ la temperatura. Grafica ambos casos (tanto $\\langle m \\rangle$ y $\\langle E \\rangle$). \n",
    "\n",
    "* Repite el inciso anterior para un cuarto del número de pasos y observa qué sucede. (deberías ver que el ciclo de histéresis se incrementa). "
   ]
  },
  {
   "cell_type": "markdown",
   "id": "14afdf9a-707c-48f7-afac-f6a66294430b",
   "metadata": {},
   "source": [
    "El hamiltoneano del sistema será\n",
    "$$H = -\\sum_{<i,j>}\\sigma_i\\sigma_j - 0.01\\sum_j^{50}\\sigma_j$$"
   ]
  },
  {
   "cell_type": "code",
   "execution_count": 1,
   "id": "21629e3a-d553-46ae-a3f4-0a26c9a38c10",
   "metadata": {},
   "outputs": [
    {
     "data": {
      "text/plain": [
       "initialState (generic function with 1 method)"
      ]
     },
     "execution_count": 1,
     "metadata": {},
     "output_type": "execute_result"
    }
   ],
   "source": [
    "function initialState(L)\n",
    "    return rand([-1, 1], L, L)\n",
    "end"
   ]
  },
  {
   "cell_type": "code",
   "execution_count": 2,
   "id": "29c8cacb",
   "metadata": {},
   "outputs": [
    {
     "data": {
      "text/plain": [
       "randomSite (generic function with 1 method)"
      ]
     },
     "execution_count": 2,
     "metadata": {},
     "output_type": "execute_result"
    }
   ],
   "source": [
    "function randomSite(L)\n",
    "    return rand(1:L), rand(1:L)\n",
    "end"
   ]
  },
  {
   "cell_type": "code",
   "execution_count": 3,
   "id": "9ca9dad2",
   "metadata": {},
   "outputs": [
    {
     "data": {
      "text/plain": [
       "stateChange (generic function with 1 method)"
      ]
     },
     "execution_count": 3,
     "metadata": {},
     "output_type": "execute_result"
    }
   ],
   "source": [
    "function stateChange(L, state)\n",
    "    stat1 = copy(state)\n",
    "    ala = randomSite(L)\n",
    "    \n",
    "    stat1[ala[1], ala[2]] *= -1\n",
    "    return stat1\n",
    "end"
   ]
  },
  {
   "cell_type": "code",
   "execution_count": 4,
   "id": "a5608ec6",
   "metadata": {},
   "outputs": [
    {
     "data": {
      "text/plain": [
       "neighbors (generic function with 1 method)"
      ]
     },
     "execution_count": 4,
     "metadata": {},
     "output_type": "execute_result"
    }
   ],
   "source": [
    "function neighbors(n, m, initialState)\n",
    "    A = []\n",
    "    L = size(initialState)[1]\n",
    "    \n",
    "    if n == 1 && m == 1\n",
    "        append!(A, [initialState[L, m], initialState[n, L], initialState[n + 1, m], initialState[n, m+1]])\n",
    "    elseif n == L && m == 1\n",
    "        append!(A, [initialState[1, m], initialState[n, L], initialState[n - 1, m], initialState[n, m+1]])\n",
    "    elseif n == 1 && m == L\n",
    "        append!(A, [initialState[L, m], initialState[n + 1, L], initialState[n, m - 1], initialState[n, 1]])\n",
    "    elseif n == L && m == L\n",
    "        append!(A, [initialState[1, m], initialState[n - 1, m], initialState[n, 1], initialState[n, m-1]])\n",
    "    elseif n == 1\n",
    "        append!(A, [initialState[L, m], initialState[n + 1, m], initialState[n, m-1], initialState[n, m+1]])\n",
    "    elseif n == L\n",
    "        append!(A, [initialState[1, m], initialState[n - 1, m], initialState[n, m-1], initialState[n, m+1]])\n",
    "    elseif m == 1\n",
    "        append!(A, [initialState[n+1, m], initialState[n - 1, m], initialState[n, L], initialState[n, m+1]])\n",
    "    elseif m == L\n",
    "        append!(A, [initialState[n+1, m], initialState[n - 1, m], initialState[n, 1], initialState[n, m-1]])\n",
    "    else\n",
    "        append!(A, [initialState[n-1, m], initialState[n+1, m], initialState[n, m-1], initialState[n, m+1]])\n",
    "    end\n",
    "    \n",
    "    return A\n",
    "end"
   ]
  },
  {
   "cell_type": "code",
   "execution_count": 5,
   "id": "cef7596f",
   "metadata": {},
   "outputs": [
    {
     "ename": "LoadError",
     "evalue": "syntax: incomplete: premature end of input",
     "output_type": "error",
     "traceback": [
      "syntax: incomplete: premature end of input",
      "",
      "Stacktrace:",
      " [1] top-level scope",
      "   @ In[5]:3"
     ]
    }
   ],
   "source": [
    "import Base.*\n",
    "\n",
    "function *(x::Number, )"
   ]
  },
  {
   "cell_type": "code",
   "execution_count": 5,
   "id": "cc24c367",
   "metadata": {},
   "outputs": [
    {
     "data": {
      "text/plain": [
       "hamiltonian (generic function with 1 method)"
      ]
     },
     "execution_count": 5,
     "metadata": {},
     "output_type": "execute_result"
    }
   ],
   "source": [
    "function hamiltonian(state)\n",
    "    energia = 0\n",
    "    summ = 0\n",
    "    l = size(state)[1]\n",
    "    \n",
    "    for j in 1:l, k in 1:l\n",
    "        summ -= sum(state[j, k] * neighbors(j, k, state))\n",
    "    end\n",
    "    \n",
    "    summ -= 0.01*sum(state)\n",
    "    \n",
    "    return summ\n",
    "end"
   ]
  },
  {
   "cell_type": "code",
   "execution_count": 6,
   "id": "8364066a",
   "metadata": {},
   "outputs": [
    {
     "data": {
      "text/plain": [
       "boltzProb (generic function with 1 method)"
      ]
     },
     "execution_count": 6,
     "metadata": {},
     "output_type": "execute_result"
    }
   ],
   "source": [
    "function boltzProb(initState, prblState, KT)\n",
    "    deltaE = hamiltonian(prblState) - hamiltonian(initState)\n",
    "    \n",
    "    if deltaE == 0 && KT == 0\n",
    "        return 0\n",
    "    else \n",
    "        return min(1, exp(-deltaE/KT))\n",
    "    end\n",
    "end"
   ]
  },
  {
   "cell_type": "code",
   "execution_count": 7,
   "id": "4169d765",
   "metadata": {},
   "outputs": [
    {
     "data": {
      "text/plain": [
       "metropolisIsing (generic function with 2 methods)"
      ]
     },
     "execution_count": 7,
     "metadata": {},
     "output_type": "execute_result"
    }
   ],
   "source": [
    "function metropolisIsing(n, KT, L = 40)\n",
    "     state = initialState(L)\n",
    "     states = []\n",
    "    \n",
    "     for k in 1:n\n",
    "        stChn = stateChange(L, state)\n",
    "        prob = boltzProb(state, stChn, KT)\n",
    "        r = rand(1)[1]\n",
    "\n",
    "        if r < prob\n",
    "            state = stChn\n",
    "        end\n",
    "\n",
    "    end\n",
    "    \n",
    "    return state\n",
    "end"
   ]
  },
  {
   "cell_type": "code",
   "execution_count": null,
   "id": "7a50916a",
   "metadata": {},
   "outputs": [],
   "source": [
    "datos0_1m = []\n",
    "datos2_2m = []\n",
    "datos4m = []\n",
    "\n",
    "datos0_1H = []\n",
    "datos2_2H = []\n",
    "datos4H = []\n",
    "\n",
    "maxHamiltonian = hamiltonian(ones(40, 40))\n",
    "for k in 80000:3000:100000\n",
    "    state0_1 = metropolisIsing(k, 0.1)\n",
    "    state2_2 = metropolisIsing(k, 2.2)\n",
    "    state4 = metropolisIsing(k, 4)\n",
    "    \n",
    "    append!(datos0_1m, abs(sum(state0_1)))\n",
    "    append!(datos2_2m, abs(sum(state2_2)))\n",
    "    append!(datos4m, abs(sum(state4)))\n",
    "\n",
    "    append!(datos0_1H, hamiltonian(state0_1)/maxHamiltonian)\n",
    "    append!(datos2_2H, hamiltonian(state2_2)/maxHamiltonian)\n",
    "    append!(datos4H, hamiltonian(state4)/maxHamiltonian)\n",
    "end\n"
   ]
  },
  {
   "cell_type": "code",
   "execution_count": 28,
   "id": "1ca0a898",
   "metadata": {},
   "outputs": [
    {
     "data": {
      "image/png": "[encoded data removed]",
      "text/plain": [
       "Figure(PyObject <Figure size 640x480 with 1 Axes>)"
      ]
     },
     "metadata": {},
     "output_type": "display_data"
    },
    {
     "data": {
      "text/plain": [
       "1-element Vector{PyCall.PyObject}:\n",
       " PyObject <matplotlib.lines.Line2D object at 0x000001B9F125BE50>"
      ]
     },
     "execution_count": 28,
     "metadata": {},
     "output_type": "execute_result"
    }
   ],
   "source": [
    "using PyPlot\n",
    "using Seaborn\n",
    "\n",
    "Seaborn.set_theme()\n",
    "\n",
    "PyPlot.plot(60000:3000:80000, datos0_1m ./ 1600)"
   ]
  },
  {
   "cell_type": "code",
   "execution_count": 30,
   "id": "80acbeba",
   "metadata": {},
   "outputs": [
    {
     "data": {
      "image/png": "[encoded data removed]",
      "text/plain": [
       "Figure(PyObject <Figure size 640x480 with 1 Axes>)"
      ]
     },
     "metadata": {},
     "output_type": "display_data"
    },
    {
     "data": {
      "text/plain": [
       "1-element Vector{PyCall.PyObject}:\n",
       " PyObject <matplotlib.lines.Line2D object at 0x000001B9FC399300>"
      ]
     },
     "execution_count": 30,
     "metadata": {},
     "output_type": "execute_result"
    }
   ],
   "source": [
    "PyPlot.plot(60000:3000:80000, datos0_1H)"
   ]
  },
  {
   "cell_type": "code",
   "execution_count": 33,
   "id": "5928f20d",
   "metadata": {},
   "outputs": [
    {
     "data": {
      "image/png": "[encoded data removed]",
      "text/plain": [
       "Figure(PyObject <Figure size 640x480 with 1 Axes>)"
      ]
     },
     "metadata": {},
     "output_type": "display_data"
    },
    {
     "data": {
      "text/plain": [
       "1-element Vector{PyCall.PyObject}:\n",
       " PyObject <matplotlib.lines.Line2D object at 0x000001BA10629D80>"
      ]
     },
     "execution_count": 33,
     "metadata": {},
     "output_type": "execute_result"
    }
   ],
   "source": [
    "PyPlot.plot(60000:3000:80000, datos2_2m ./ 1600)"
   ]
  },
  {
   "cell_type": "code",
   "execution_count": 35,
   "id": "4b1f0b33",
   "metadata": {},
   "outputs": [
    {
     "data": {
      "image/png": "[encoded data removed]",
      "text/plain": [
       "Figure(PyObject <Figure size 640x480 with 1 Axes>)"
      ]
     },
     "metadata": {},
     "output_type": "display_data"
    },
    {
     "data": {
      "text/plain": [
       "1-element Vector{PyCall.PyObject}:\n",
       " PyObject <matplotlib.lines.Line2D object at 0x000001BA106B8190>"
      ]
     },
     "execution_count": 35,
     "metadata": {},
     "output_type": "execute_result"
    }
   ],
   "source": [
    "PyPlot.plot(60000:3000:80000, datos2_2H)"
   ]
  },
  {
   "cell_type": "code",
   "execution_count": 37,
   "id": "4153fdea",
   "metadata": {
    "scrolled": true
   },
   "outputs": [
    {
     "data": {
      "image/png": "[encoded data removed]",
      "text/plain": [
       "Figure(PyObject <Figure size 640x480 with 1 Axes>)"
      ]
     },
     "metadata": {},
     "output_type": "display_data"
    },
    {
     "data": {
      "text/plain": [
       "1-element Vector{PyCall.PyObject}:\n",
       " PyObject <matplotlib.lines.Line2D object at 0x000001BA1084DCF0>"
      ]
     },
     "execution_count": 37,
     "metadata": {},
     "output_type": "execute_result"
    }
   ],
   "source": [
    "PyPlot.plot(60000:3000:80000, datos4m ./ 1600)"
   ]
  },
  {
   "cell_type": "code",
   "execution_count": 38,
   "id": "8c85a4b1",
   "metadata": {},
   "outputs": [
    {
     "data": {
      "image/png": "[encoded data removed]",
      "text/plain": [
       "Figure(PyObject <Figure size 640x480 with 1 Axes>)"
      ]
     },
     "metadata": {},
     "output_type": "display_data"
    },
    {
     "data": {
      "text/plain": [
       "1-element Vector{PyCall.PyObject}:\n",
       " PyObject <matplotlib.lines.Line2D object at 0x000001BA108DCAF0>"
      ]
     },
     "execution_count": 38,
     "metadata": {},
     "output_type": "execute_result"
    }
   ],
   "source": [
    "PyPlot.plot(60000:3000:80000, datos4H)"
   ]
  },
  {
   "cell_type": "code",
   "execution_count": 8,
   "id": "5ace23a8",
   "metadata": {},
   "outputs": [
    {
     "data": {
      "text/plain": [
       "metropolisConDatos (generic function with 2 methods)"
      ]
     },
     "execution_count": 8,
     "metadata": {},
     "output_type": "execute_result"
    }
   ],
   "source": [
    "function metropolisConDatos(n, KT, L = 40)\n",
    "     state = initialState(L)\n",
    "     States = []\n",
    "     DataM = []\n",
    "     DataH = []\n",
    "     maxHamiltonian = hamiltonian(ones(40, 40))\n",
    "    \n",
    "     for k in 1:n\n",
    "        stChn = stateChange(L, state)\n",
    "        prob = boltzProb(state, stChn, KT)\n",
    "        r = rand(1)[1]\n",
    "\n",
    "        if r < prob\n",
    "            state = stChn\n",
    "        end\n",
    "        \n",
    "        if k > n - 10000 && k%100 == 0\n",
    "            append!(DataM, abs(sum(state)))\n",
    "            append!(DataH, hamiltonian(state)/maxHamiltonian)\n",
    "        end\n",
    "    end\n",
    "    \n",
    "    return DataM, DataH\n",
    "end"
   ]
  },
  {
   "cell_type": "code",
   "execution_count": null,
   "id": "3a5836bd",
   "metadata": {},
   "outputs": [],
   "source": [
    "DatosM = []\n",
    "DatosH = []\n",
    "print(\"ele\")\n",
    "\n",
    "for β in 0.1:0.25:4\n",
    "    println(β)\n",
    "    Data = [metropolisConDatos(75000, β) for k in 1:2] \n",
    "    DATOS = (sum([data[1] for data in Data])/2, sum([data[2] for data in Data])/2)\n",
    "    \n",
    "    push!(DatosM, DATOS[1])\n",
    "    push!(DatosH, DATOS[2])\n",
    "end"
   ]
  },
  {
   "cell_type": "code",
   "execution_count": 12,
   "id": "49f50508",
   "metadata": {},
   "outputs": [
    {
     "ename": "LoadError",
     "evalue": "UndefVarError: initialState not defined",
     "output_type": "error",
     "traceback": [
      "UndefVarError: initialState not defined",
      "",
      "Stacktrace:",
      " [1] metropolisConDatos(n::Int64, KT::Int64, L::Int64) (repeats 2 times)",
      "   @ Main .\\In[9]:2",
      " [2] top-level scope",
      "   @ In[12]:1"
     ]
    }
   ],
   "source": [
    "metropolisConDatos(75000, 3) \n"
   ]
  },
  {
   "cell_type": "markdown",
   "id": "d8c86b19",
   "metadata": {},
   "source": [
    "a grosso modo en 40k a 50 k se termaliza"
   ]
  },
  {
   "cell_type": "markdown",
   "id": "aff0c7a1",
   "metadata": {},
   "source": [
    "[9] **Modelo XY**: El modelo XY es como el modelo de Ising, salvo que los espines pueden apuntar en cualquier dirección y no sólo en 2 direcciones. Por lo tanto, para calcular la energía del sistema se requiere calcular el producto punto (equivalentemente el ángulo) entre el campo magnético y el espín y también el ángulo entre dos espines vecinos. \n",
    "\n",
    "$$ H(\\sigma) = - \\sum_{i\\neq j} J_{ij}\\; \\vec{\\sigma}_i\\cdot\\vec{\\sigma}_j -\\sum_j \\mathbf{B}_j\\cdot \\vec{\\sigma}_j$$\n",
    "\n",
    "Considera que $J$ y $B$ son constantes.\n",
    "\n",
    "Este es uno de esos modelos que NO debería presentar una transición de fase en el sentido clásico según el teorema de Mermin-Wagner, pues es un sistema continuo (la posición es discreta, pero la orientación es continua). \n",
    "\n",
    "* Repite el primer inciso del problema anterior usando este modelo, pero esta vez para $k_B T = 0.1, 0.9$ y $2$. Con eso obtén el número de pasos de Monte-Carlo para que el sistema \"termalice\". \n",
    "\n",
    "* Mide $\\langle m \\rangle$ y $\\langle E \\rangle$ (usando el promedio de los último $10^3$ pasos en un solo sistema) y reduciendo la temperatura desde un estado completamente desordenado (comienza en $k_B T = 2$), para variaciones de $\\Delta k_B T = 0.01$ lentas (2 veces el número de pasos de Monte-Carlo que encontraste en el iniciso 1). ¿Si observas una transición de fase (o algo similar), a qué temperatura la observas (aproximadamente)? \n",
    "\n",
    "* Repite ahora el experimento con variaciones rápidas de la temeratura (1, 1/2, 1/3, 1/4 y 1/8 veces el número de pasos de Monte-Carlo que usaste en el inciso anterior). Haz una gráfica del sistema que obtienes en cada caso cuando llegas a temperatura 0. Para esto dibuja una red de $50\\times 50$ donde en cada nodo pongas una flechita que represente al espín (apuntando en la dirección que le corresponde). ¿Se ordenan siempre los espines en alguna dirección? \n",
    "\n",
    "Nota: Este es el segundo problema que trataron Kosterliz y Thoules, el primero fue el de discos duros, el segundo fue este. Por ambos se les dió el premio Nobel de Física en 2016. Además, en 2021 Parisi recibió el premio Nobel de Física por 2 razones, por estudiar sistemas complejos en general y por sus trabajos sobre vidrios de espín, que son las estructuras que deberían encontrar para enfriamientos rápidos en este modelo! "
   ]
  },
  {
   "cell_type": "code",
   "execution_count": 1,
   "id": "d88fbb07",
   "metadata": {},
   "outputs": [
    {
     "data": {
      "text/plain": [
       "1×3 Matrix{Int64}:\n",
       " 1  2  3"
      ]
     },
     "execution_count": 1,
     "metadata": {},
     "output_type": "execute_result"
    }
   ],
   "source": [
    "k = [1 2 3]"
   ]
  },
  {
   "cell_type": "markdown",
   "id": "6f866c3a",
   "metadata": {},
   "source": [
    "[10] **Esferas suaves**: Utiliza el potencial de Lennard-Jones (LJ) para simular partículas suaves. Es decir, partículas que a partir de una cierta distancia tienen un potencial $0$, pero si la distancia es menor que ese radio, su potencial es el de LJ. Para no tener problemas de continuidad, elige el radio igual al radio donde el potencial de LJ se vuelve 0. \n",
    "\n",
    "**Nota:** Este problema se trata sólo de repetir lo mismo que hicimos para esferas duras, pero para esferas suaves. No se pide ninguna medición, sólo hacer la animación de cómo van creciendo y acomodándose las esferas. "
   ]
  },
  {
   "cell_type": "code",
   "execution_count": 5,
   "id": "425893d9",
   "metadata": {},
   "outputs": [],
   "source": [
    "if 100 in k\n",
    "    print(5)\n",
    "end"
   ]
  },
  {
   "cell_type": "code",
   "execution_count": null,
   "id": "8fd8579f",
   "metadata": {},
   "outputs": [],
   "source": []
  },
  {
   "cell_type": "code",
   "execution_count": null,
   "id": "b3b5a8a8",
   "metadata": {},
   "outputs": [],
   "source": []
  }
 ],
 "metadata": {
  "kernelspec": {
   "display_name": "Julia 1.8.5",
   "language": "julia",
   "name": "julia-1.8"
  },
  "language_info": {
   "file_extension": ".jl",
   "mimetype": "application/julia",
   "name": "julia",
   "version": "1.8.5"
  }
 },
 "nbformat": 4,
 "nbformat_minor": 5
}
