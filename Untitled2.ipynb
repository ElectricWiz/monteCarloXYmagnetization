{
 "cells": [
  {
   "cell_type": "code",
   "execution_count": 1,
   "id": "d0448136",
   "metadata": {},
   "outputs": [
    {
     "ename": "LoadError",
     "evalue": "MethodError: no method matching +(::Tuple{Int64, Int64}, ::Tuple{Int64, Int64})\n\u001b[0mClosest candidates are:\n\u001b[0m  +(::Any, ::Any, \u001b[91m::Any\u001b[39m, \u001b[91m::Any...\u001b[39m) at operators.jl:591",
     "output_type": "error",
     "traceback": [
      "MethodError: no method matching +(::Tuple{Int64, Int64}, ::Tuple{Int64, Int64})\n\u001b[0mClosest candidates are:\n\u001b[0m  +(::Any, ::Any, \u001b[91m::Any\u001b[39m, \u001b[91m::Any...\u001b[39m) at operators.jl:591",
      "",
      "Stacktrace:",
      "  [1] add_sum(x::Tuple{Int64, Int64}, y::Tuple{Int64, Int64})",
      "    @ Base .\\reduce.jl:24",
      "  [2] _mapreduce",
      "    @ .\\reduce.jl:435 [inlined]",
      "  [3] _mapreduce_dim",
      "    @ .\\reducedim.jl:365 [inlined]",
      "  [4] #mapreduce#765",
      "    @ .\\reducedim.jl:357 [inlined]",
      "  [5] mapreduce",
      "    @ .\\reducedim.jl:357 [inlined]",
      "  [6] #_sum#775",
      "    @ .\\reducedim.jl:999 [inlined]",
      "  [7] _sum",
      "    @ .\\reducedim.jl:999 [inlined]",
      "  [8] #_sum#774",
      "    @ .\\reducedim.jl:998 [inlined]",
      "  [9] _sum",
      "    @ .\\reducedim.jl:998 [inlined]",
      " [10] #sum#772",
      "    @ .\\reducedim.jl:994 [inlined]",
      " [11] sum(a::Vector{Tuple{Int64, Int64}})",
      "    @ Base .\\reducedim.jl:994",
      " [12] top-level scope",
      "    @ In[1]:1"
     ]
    }
   ],
   "source": [
    "sum([(1, 2), (3, 4)])"
   ]
  },
  {
   "cell_type": "code",
   "execution_count": null,
   "id": "70e24b37",
   "metadata": {},
   "outputs": [],
   "source": []
  }
 ],
 "metadata": {
  "kernelspec": {
   "display_name": "Julia 1.8.5",
   "language": "julia",
   "name": "julia-1.8"
  },
  "language_info": {
   "file_extension": ".jl",
   "mimetype": "application/julia",
   "name": "julia",
   "version": "1.8.5"
  }
 },
 "nbformat": 4,
 "nbformat_minor": 5
}
