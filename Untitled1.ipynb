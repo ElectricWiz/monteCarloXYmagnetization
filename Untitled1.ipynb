{
 "cells": [
  {
   "cell_type": "code",
   "execution_count": 7,
   "id": "6cfb338c",
   "metadata": {},
   "outputs": [
    {
     "data": {
      "text/plain": [
       "makePartitions (generic function with 1 method)"
      ]
     },
     "execution_count": 7,
     "metadata": {},
     "output_type": "execute_result"
    }
   ],
   "source": [
    "function makePartitions(nPrism, Δx)\n",
    "    InterPartitions = []\n",
    "    \n",
    "    for inter in nPrism\n",
    "        push!(InterPartitions, [(i, i + Δx) for i in inter[1]:Δx:inter[2] - Δx])\n",
    "    end\n",
    "    \n",
    "    return InterPartitions\n",
    "end"
   ]
  },
  {
   "cell_type": "code",
   "execution_count": 65,
   "id": "9905da6b",
   "metadata": {},
   "outputs": [
    {
     "data": {
      "text/plain": [
       "volume (generic function with 1 method)"
      ]
     },
     "execution_count": 65,
     "metadata": {},
     "output_type": "execute_result"
    }
   ],
   "source": [
    "function volume(Partitions)\n",
    "    vol = 0\n",
    "    \n",
    "    for part1 in Partitions\n",
    "        for part2 in Partitions\n",
    "            for inter1 in part1\n",
    "                for inter2 in part2\n",
    "                    vol = (inter2[2] - inter2[1])*(inter1[2] - inter1[1])*f([inter[1] for inter in part])\n",
    "                end\n",
    "            end\n",
    "        end\n",
    "    end\n",
    "    \n",
    "    return vol/(length(Partitions))^2\n",
    "end"
   ]
  },
  {
   "cell_type": "code",
   "execution_count": 90,
   "id": "e8436558",
   "metadata": {},
   "outputs": [
    {
     "data": {
      "text/plain": [
       "5-element Vector{Any}:\n",
       " [(0.0, 0.135), (0.135, 0.27), (0.27, 0.405), (0.405, 0.54), (0.54, 0.675), (0.675, 0.81), (0.81, 0.9450000000000001)]\n",
       " [(0.0, 0.135), (0.135, 0.27), (0.27, 0.405), (0.405, 0.54), (0.54, 0.675), (0.675, 0.81), (0.81, 0.9450000000000001)]\n",
       " [(0.0, 0.135), (0.135, 0.27), (0.27, 0.405), (0.405, 0.54), (0.54, 0.675), (0.675, 0.81), (0.81, 0.9450000000000001)]\n",
       " [(0.0, 0.135), (0.135, 0.27), (0.27, 0.405), (0.405, 0.54), (0.54, 0.675), (0.675, 0.81), (0.81, 0.9450000000000001)]\n",
       " [(0.0, 0.135), (0.135, 0.27), (0.27, 0.405), (0.405, 0.54), (0.54, 0.675), (0.675, 0.81), (0.81, 0.9450000000000001)]"
      ]
     },
     "execution_count": 90,
     "metadata": {},
     "output_type": "execute_result"
    }
   ],
   "source": [
    "partic = makePartitions([(0, 1), (0, 1), (0, 1), (0, 1), (0, 1)], .135)"
   ]
  },
  {
   "cell_type": "code",
   "execution_count": 91,
   "id": "baa2583e",
   "metadata": {},
   "outputs": [
    {
     "data": {
      "text/plain": [
       "0.8930250000000036"
      ]
     },
     "execution_count": 91,
     "metadata": {},
     "output_type": "execute_result"
    }
   ],
   "source": [
    "volume(partic)"
   ]
  },
  {
   "cell_type": "code",
   "execution_count": 92,
   "id": "714783a8",
   "metadata": {},
   "outputs": [
    {
     "data": {
      "text/plain": [
       "encuentraValorMedio (generic function with 1 method)"
      ]
     },
     "execution_count": 92,
     "metadata": {},
     "output_type": "execute_result"
    }
   ],
   "source": [
    "function encuentraValorMedio(f, Partitions)\n",
    "    return f([p[1] for p in Partitions])\n",
    "end"
   ]
  },
  {
   "cell_type": "code",
   "execution_count": null,
   "id": "16f964ae",
   "metadata": {},
   "outputs": [],
   "source": [
    "function riemann(f, nPrism, Δx)\n",
    "    Partic = makePartitions(nPrism, Δx)\n",
    "    "
   ]
  }
 ],
 "metadata": {
  "kernelspec": {
   "display_name": "Julia 1.8.5",
   "language": "julia",
   "name": "julia-1.8"
  },
  "language_info": {
   "file_extension": ".jl",
   "mimetype": "application/julia",
   "name": "julia",
   "version": "1.8.5"
  }
 },
 "nbformat": 4,
 "nbformat_minor": 5
}
